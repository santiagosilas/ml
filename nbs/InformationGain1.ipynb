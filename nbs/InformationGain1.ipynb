{
 "cells": [
  {
   "cell_type": "markdown",
   "metadata": {},
   "source": [
    "# Árvores de Decisão"
   ]
  },
  {
   "cell_type": "markdown",
   "metadata": {},
   "source": [
    "Passos do Algoritmo Base:\n",
    "1. Escolher um atributo\n",
    "2. Estender a árvore, adicionando um ramo para cada valor do atributo\n",
    "3. Passar os exemplos para as folhas (considerando-se o valor do atributo escolhido)\n",
    "4. Para cada folha:\n",
    "    * Se todos os exemplos são da mesma classe, associar esta classe para a folha\n",
    "    * Caso contrário, repetir os passos de 1 a 4"
   ]
  },
  {
   "cell_type": "markdown",
   "metadata": {},
   "source": [
    "## Entropia do Atributo Classe no conjunto X\n",
    "\n",
    "Dados:\n",
    "* $X$: um conjunto de exemplos com com $n$ atributos e $m$ classes\n",
    "* $x \\in X \\ | \\ x = \\{ a_1, \\ a_2, \\ldots, \\ a_n, \\ a_{classe} \\}$, onde $a_i$ corresponde ao atributo $i$ de $x$\n",
    "* $y \\in Y \\ | \\ Y = \\{ y_1, y_2, \\ldots, y_m \\}$\n",
    "\n",
    "$E(X) = -\\sum_{k=1}^{m} p_k \\cdot \\log_{2} p_k$\n",
    "\n",
    "$E(X) = - p_1 \\cdot \\log_{2} p_1 - p_2 \\cdot \\log_{2} p_2 \\ldots - p_m \\cdot \\log_{2} p_m$\n",
    "\n",
    "onde:\n",
    "* $p_k$: Probabilidade de ocorrência da classe k "
   ]
  },
  {
   "cell_type": "markdown",
   "metadata": {},
   "source": [
    "## Entropia do Atributo $i$\n",
    "\n",
    "Seja $v = \\{ v_1, v_2, ..., v_n\\}$ os valores que o atributo $i$ pode assumir.\n",
    "\n",
    "$E(a_i) = \\sum_{k=1}^{n} p_k \\cdot E(v_i) $ (Soma ponderada das entropias de suas partições)\n",
    "\n",
    "onde:\n",
    "* $E(v_i)$: Entropia de $v_i$ (subconjunto $v_i$ do atributo $i$)\n",
    "    * $E(v_i) = -\\sum_{k=1}^{m} p_k \\cdot \\log_{2} p_k$ \n",
    "* $p_k$: Proporção de valores $v_i$\n",
    "* $E(v_i)$: Entropia do subconjunto $v_i$\n",
    "\n"
   ]
  },
  {
   "cell_type": "markdown",
   "metadata": {},
   "source": [
    "## Ganho de Informação\n",
    "\n",
    "$GI(a_i) = E(S) - E(a_i)$\n",
    "\n",
    "onde:\n",
    "\n",
    "* $a_i$: Atributo $i$\n",
    "* $E(S)$: Entropia do *atributo classe* no conjunto de dados $S$\n",
    "* $E(a_i)$: Entropia do atributo $i$"
   ]
  },
  {
   "cell_type": "markdown",
   "metadata": {},
   "source": [
    "### Passos para calcular o Ganho de Informação\n",
    "\n",
    "* Passo 1: Calcular a entropia da classe do conjunto de dados\n",
    "* Passo 2: Calcular a entropia de cada atributo\n",
    "* Passo 3: Calcular o ganho de informação de cada atributo"
   ]
  },
  {
   "cell_type": "markdown",
   "metadata": {},
   "source": [
    "## Exemplo: Dataset \"Play Golf\""
   ]
  },
  {
   "cell_type": "code",
   "execution_count": 36,
   "metadata": {},
   "outputs": [],
   "source": [
    "attributes = ['outlook', 'temperature', 'humidity', 'windy', 'play golf']\n",
    "X = [\n",
    "    ['rainy', 'hot', 'high', False , 'no'],\n",
    "    ['rainy', 'hot', 'high', True, 'no'],\n",
    "    ['rainy', 'mild', 'high', False, 'no'],\n",
    "    ['rainy', 'cool', 'normal', False, 'yes'],\n",
    "    ['rainy', 'mild', 'normal', True, 'yes'],\n",
    "    \n",
    "    ['overcast', 'hot', 'high', False, 'yes'],\n",
    "    ['overcast', 'cool', 'normal', True, 'yes'],\n",
    "    ['overcast', 'mild', 'high', True, 'yes'],\n",
    "    ['overcast', 'hot', 'normal', False, 'yes'],\n",
    "    \n",
    "    ['sunny', 'mild', 'high', False, 'yes'],\n",
    "    ['sunny', 'cool', 'normal', False, 'yes'],\n",
    "    ['sunny', 'cool', 'normal', True, 'no'],\n",
    "    ['sunny', 'mild', 'normal', False, 'yes'],\n",
    "    ['sunny', 'mild', 'high', True, 'no'],\n",
    "]"
   ]
  },
  {
   "cell_type": "code",
   "execution_count": 37,
   "metadata": {},
   "outputs": [
    {
     "name": "stdout",
     "output_type": "stream",
     "text": [
      "P(Yes) =  0.6428571428571429\n",
      "P(No) =  0.35714285714285715\n"
     ]
    }
   ],
   "source": [
    "p_yes = len([x for x in X if x[-1] == 'yes']) / len(X)\n",
    "p_no = len([x for x in X if x[-1] == 'no']) / len(X)\n",
    "print('P(Yes) = ', p_yes)\n",
    "print('P(No) = ', p_no)"
   ]
  },
  {
   "cell_type": "markdown",
   "metadata": {},
   "source": [
    "Entropia do Conjunto X:\n",
    "\n",
    "$E(X) = -\\sum_{k=1}^{m} p_k \\cdot \\log_{2} p_k = - p_{yes} \\cdot \\log_{2} p_{yes} - p_{no} \\cdot \\log_{2} p_{no}$"
   ]
  },
  {
   "cell_type": "code",
   "execution_count": 44,
   "metadata": {},
   "outputs": [],
   "source": [
    "from math import log\n",
    "\n",
    "log2 = lambda prob: log(prob, 2) if prob != 0 else 0.0\n",
    "\n",
    "# Entropia de do conjunto X\n",
    "entropia_X = -p_yes * log2(p_yes) -p_no * log2(p_no)"
   ]
  },
  {
   "cell_type": "code",
   "execution_count": 45,
   "metadata": {},
   "outputs": [
    {
     "name": "stdout",
     "output_type": "stream",
     "text": [
      "Entropia(X) =  0.9402859586706309\n"
     ]
    }
   ],
   "source": [
    "print('Entropia(X) = ', entropia_X)"
   ]
  },
  {
   "cell_type": "markdown",
   "metadata": {},
   "source": [
    "## Entropia do Atributo $Outlook$\n",
    "\n",
    "$v = \\{ rainy, overcast, sunny \\}$ os valores que o atributo $outlook$ pode assumir.\n",
    "\n",
    "$E(Outlook) = \\sum_{k=1}^{n} p_k \\cdot E(v_i) $ (Soma ponderada das entropias de suas partições)\n",
    "\n",
    "$E(Outlook) = p_{rainy} \\cdot E(rainy) + p_{overcast} \\cdot E(overcast) + p_{sunny} \\cdot E(sunny) $"
   ]
  },
  {
   "cell_type": "code",
   "execution_count": 53,
   "metadata": {},
   "outputs": [],
   "source": [
    "# Calcula as entropias parciais de Outlook (rainy, overcast e sunny)\n",
    "\n",
    "# rainy\n",
    "subconj = [x for x in X if x[0] == 'rainy']\n",
    "p_yes = len([x for x in subconj if x[-1] == 'yes']) / len(subconj)\n",
    "p_no = len([x for x in subconj if x[-1] == 'no']) / len(subconj)\n",
    "\n",
    "prob_rainy = len(subconj) / len(X) \n",
    "entropia_rainy = -p_yes * log2(p_yes) -p_no * log2(p_no)\n",
    "\n",
    "# overcast\n",
    "subconj = [x for x in X if x[0] == 'overcast']\n",
    "p_yes = len([x for x in subconj if x[-1] == 'yes']) / len(subconj)\n",
    "p_no = len([x for x in subconj if x[-1] == 'no']) / len(subconj)\n",
    "\n",
    "prob_overcast = len(subconj) / len(X) \n",
    "entropia_overcast = -p_yes * log2(p_yes) -p_no * log2(p_no)\n",
    "\n",
    "# sunny\n",
    "subconj = [x for x in X if x[0] == 'sunny']\n",
    "p_yes = len([x for x in subconj if x[-1] == 'yes']) / len(subconj)\n",
    "p_no = len([x for x in subconj if x[-1] == 'no']) / len(subconj)\n",
    "\n",
    "prob_sunny = len(subconj) / len(X) \n",
    "entropia_sunny = -p_yes * log2(p_yes) -p_no * log2(p_no)\n"
   ]
  },
  {
   "cell_type": "code",
   "execution_count": 55,
   "metadata": {},
   "outputs": [
    {
     "name": "stdout",
     "output_type": "stream",
     "text": [
      "Entropia(Outlook) =  0.6935361388961918\n"
     ]
    }
   ],
   "source": [
    "# Calcula a Entropia de Outlook\n",
    "entropia_outlook = prob_rainy * entropia_rainy + prob_overcast * entropia_overcast + prob_sunny * entropia_sunny\n",
    "\n",
    "print('Entropia(Outlook) = ', entropia_outlook)"
   ]
  },
  {
   "cell_type": "markdown",
   "metadata": {},
   "source": [
    "## Entropia do Atributo $Temperature$\n",
    "\n",
    "$v = \\{ hot, mild, cool \\}$ os valores que o atributo $outlook$ pode assumir.\n",
    "\n",
    "$E(Temperature) = \\sum_{k=1}^{n} p_k \\cdot E(v_i) $ (Soma ponderada das entropias de suas partições)\n",
    "\n",
    "$E(Temperature) = p_{hot} \\cdot E(hot) + p_{mild} \\cdot E(mild) + p_{cool} \\cdot E(cool) $"
   ]
  },
  {
   "cell_type": "code",
   "execution_count": 61,
   "metadata": {},
   "outputs": [],
   "source": [
    "def entropia_atrb(atrb_index, atrb_values):\n",
    "    probs, entropias = [], []\n",
    "    for atrb_value in atrb_values:\n",
    "        subconj = [x for x in X if x[atrb_index] == atrb_value]\n",
    "        p_yes = len([x for x in subconj if x[-1] == 'yes']) / len(subconj)\n",
    "        p_no = len([x for x in subconj if x[-1] == 'no']) / len(subconj)\n",
    "\n",
    "        probs.append(len(subconj) / len(X)) \n",
    "        entropias.append(-p_yes * log2(p_yes) -p_no * log2(p_no))\n",
    "    \n",
    "    entropia = 0\n",
    "    for i in range(len(probs)):\n",
    "        entropia += probs[i] * entropias[i]\n",
    "    return entropia\n",
    "        "
   ]
  },
  {
   "cell_type": "markdown",
   "metadata": {},
   "source": [
    "## Entropia do Atributo $Temperature$\n",
    "\n",
    "$v = \\{ hot, mild, cool \\}$ os valores que o atributo $outlook$ pode assumir.\n",
    "\n",
    "$E(Temperature) = \\sum_{k=1}^{n} p_k \\cdot E(v_i) $ (Soma ponderada das entropias de suas partições)\n",
    "\n",
    "$E(Temperature) = p_{hot} \\cdot E(hot) + p_{mild} \\cdot E(mild) + p_{cool} \\cdot E(cool) $"
   ]
  },
  {
   "cell_type": "code",
   "execution_count": 64,
   "metadata": {},
   "outputs": [
    {
     "name": "stdout",
     "output_type": "stream",
     "text": [
      "Entropia(Temperature) =  0.9110633930116763\n"
     ]
    }
   ],
   "source": [
    "entropia_temperature = entropia_atrb(1, ['hot', 'mild', 'cool'])\n",
    "print('Entropia(Temperature) = ', entropia_temperature)"
   ]
  },
  {
   "cell_type": "markdown",
   "metadata": {},
   "source": [
    "## Entropia do Atributo $Humidity$\n",
    "\n",
    "$v = \\{ hot, mild, cool \\}$ os valores que o atributo $outlook$ pode assumir.\n",
    "\n",
    "$E(Humidity) = \\sum_{k=1}^{n} p_k \\cdot E(v_i) $ (Soma ponderada das entropias de suas partições)\n",
    "\n",
    "$E(Humidity) = p_{high} \\cdot E(high) + p_{normal} \\cdot E(normal)$"
   ]
  },
  {
   "cell_type": "code",
   "execution_count": 65,
   "metadata": {},
   "outputs": [
    {
     "name": "stdout",
     "output_type": "stream",
     "text": [
      "Entropia(Humidity) =  0.7884504573082896\n"
     ]
    }
   ],
   "source": [
    "entropia_humidity = entropia_atrb(2, ['high', 'normal'])\n",
    "print('Entropia(Humidity) = ', entropia_humidity)"
   ]
  },
  {
   "cell_type": "markdown",
   "metadata": {},
   "source": [
    "## Entropia do Atributo $Windy$\n",
    "\n",
    "$v = \\{ hot, mild, cool \\}$ os valores que o atributo $outlook$ pode assumir.\n",
    "\n",
    "$E(Humidity) = \\sum_{k=1}^{n} p_k \\cdot E(v_i) $ (Soma ponderada das entropias de suas partições)\n",
    "\n",
    "$E(Humidity) = p_{False} \\cdot E(False) + p_{True} \\cdot E(True)$"
   ]
  },
  {
   "cell_type": "code",
   "execution_count": 67,
   "metadata": {},
   "outputs": [
    {
     "name": "stdout",
     "output_type": "stream",
     "text": [
      "Entropia(Humidity) =  0.8921589282623617\n"
     ]
    }
   ],
   "source": [
    "entropia_windy = entropia_atrb(3, [False, True])\n",
    "print('Entropia(Windy) = ', entropia_windy)"
   ]
  },
  {
   "cell_type": "code",
   "execution_count": 71,
   "metadata": {},
   "outputs": [
    {
     "name": "stdout",
     "output_type": "stream",
     "text": [
      "Entropias:\n",
      "Entropia(X) =\t 0.9402859586706309\n",
      "Entropia(Outlook) =\t 0.6935361388961918\n",
      "Entropia(Temperature) =\t 0.9110633930116763\n",
      "Entropia(Humidity) =\t 0.7884504573082896\n",
      "Entropia(Windy) =\t 0.8921589282623617\n"
     ]
    }
   ],
   "source": [
    "print('Entropias:')\n",
    "print('Entropia(X) =\\t', entropia_X)\n",
    "print('Entropia(Outlook) =\\t', entropia_outlook)\n",
    "print('Entropia(Temperature) =\\t', entropia_temperature)\n",
    "print('Entropia(Humidity) =\\t', entropia_humidity)\n",
    "print('Entropia(Windy) =\\t', entropia_windy)"
   ]
  },
  {
   "cell_type": "markdown",
   "metadata": {},
   "source": [
    "## Ganho de Informação\n",
    "\n",
    "$GI(Outlook) = E(X) - E(Outlook)$\n",
    "\n",
    "$GI(Temperature) = E(X) - E(Temperature)$\n",
    "\n",
    "$GI(Humididy) = E(X) - E(Humididy)$\n",
    "\n",
    "$GI(Windy) = E(X) - E(Windy)$\n"
   ]
  },
  {
   "cell_type": "code",
   "execution_count": 74,
   "metadata": {},
   "outputs": [
    {
     "name": "stdout",
     "output_type": "stream",
     "text": [
      "GI(Outlook)     = 0.2467498197744391\n",
      "GI(Temperature) = 0.029222565658954647\n",
      "GI(Humidity)    = 0.15183550136234136\n",
      "GI(Windy)       = 0.04812703040826927\n"
     ]
    }
   ],
   "source": [
    "print('GI(Outlook)     =', entropia_X - entropia_outlook)\n",
    "print('GI(Temperature) =', entropia_X - entropia_temperature)\n",
    "print('GI(Humidity)    =', entropia_X - entropia_humidity)\n",
    "print('GI(Windy)       =', entropia_X - entropia_windy)"
   ]
  },
  {
   "cell_type": "code",
   "execution_count": null,
   "metadata": {
    "collapsed": true
   },
   "outputs": [],
   "source": []
  }
 ],
 "metadata": {
  "kernelspec": {
   "display_name": "Python 3",
   "language": "python",
   "name": "python3"
  },
  "language_info": {
   "codemirror_mode": {
    "name": "ipython",
    "version": 3
   },
   "file_extension": ".py",
   "mimetype": "text/x-python",
   "name": "python",
   "nbconvert_exporter": "python",
   "pygments_lexer": "ipython3",
   "version": "3.6.2"
  }
 },
 "nbformat": 4,
 "nbformat_minor": 2
}
